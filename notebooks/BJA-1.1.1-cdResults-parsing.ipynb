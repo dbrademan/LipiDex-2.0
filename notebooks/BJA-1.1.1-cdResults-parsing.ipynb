{
 "cells": [
  {
   "cell_type": "code",
   "execution_count": 2,
   "id": "d7fd9e39",
   "metadata": {},
   "outputs": [],
   "source": [
    "import sqlite3\n",
    "\n",
    "import pandas as pd\n",
    "import numpy as np\n",
    "import matplotlib.pyplot as plt"
   ]
  },
  {
   "cell_type": "code",
   "execution_count": 3,
   "id": "3d9bbe0f",
   "metadata": {},
   "outputs": [],
   "source": [
    "con = sqlite3.connect('../data/CD/Nilerat_lipids_CD33_aligned.cdResult')\n",
    "cur = con.cursor()"
   ]
  },
  {
   "cell_type": "markdown",
   "id": "54dacb09",
   "metadata": {},
   "source": [
    "## Define short table names"
   ]
  },
  {
   "cell_type": "code",
   "execution_count": 4,
   "id": "2d8eb631",
   "metadata": {},
   "outputs": [],
   "source": [
    "cmpd = 'ConsolidatedUnknownCompoundItems'\n",
    "# cur.description to get column names\n",
    "cmpd_cols = ['ID',\n",
    " 'Name',\n",
    " 'MolecularWeight',\n",
    " 'RetentionTime',\n",
    " 'MaxArea',\n",
    " 'NumberOfAdducts',\n",
    " 'MSnStatus',\n",
    " 'MSDepth',\n",
    " 'ExcludedBy',\n",
    " 'Tags',\n",
    " 'Checked',\n",
    " 'Area',\n",
    " 'ReferenceIon',\n",
    " 'MassOverCharge',\n",
    " 'PQFFWHM2Base',\n",
    " 'PQFJaggedness',\n",
    " 'PQFModality',\n",
    " 'PQFZigZagIndex',\n",
    " 'PeakRating',\n",
    " 'GapStatus',\n",
    " 'BackupGapStatus',\n",
    " 'GapFillStatus',\n",
    " 'BackgroundStatus',\n",
    " 'mzCloudBestMatch',\n",
    " 'NumberOfmzCloudResults',\n",
    " 'NumberOfScanIDsmzCloud',\n",
    " 'mzCloudLibraryMatches',\n",
    " 'mzCloudBestMatchConfidence',\n",
    " 'NumberOfSpectrawithMSnn2Hit',\n",
    " 'mzCloudBestTreeMatch',\n",
    " 'mzCloudBestSimMatch',\n",
    " 'NumberOfChemSpiderResults',\n",
    " 'NumberOfMetabolikaPathways',\n",
    " 'MetabolikaPathways',\n",
    " 'NumberOfSimilarityResults',\n",
    " 'ElementalCompositionFormula',\n",
    " 'ElementalCompositionFormulaOriginal',\n",
    " 'MolStructure',\n",
    " 'FIShCoverage',\n",
    " 'AnnotationMolecularWeight',\n",
    " 'AnnotationDeltaMassInDa',\n",
    " 'AnnotationDeltaMassInPPM',\n",
    " 'AnnotationMatchStatus']\n",
    "# cpf\n",
    "# feat"
   ]
  },
  {
   "cell_type": "markdown",
   "id": "9fbcb21f",
   "metadata": {},
   "source": [
    "## Parse Area column in compounds table\n",
    "### Area is a blob of binary\n",
    "\n",
    "- Blob is 603 bytes, with 67 files that gives 9 bytes per area value\n",
    "- 8 bytes = Double precision float\n",
    "- 9th byte is \\x01 separator\n",
    "- Therefore extract 0-8, 9-17, "
   ]
  },
  {
   "cell_type": "code",
   "execution_count": 5,
   "id": "f9c56317",
   "metadata": {},
   "outputs": [
    {
     "data": {
      "text/plain": [
       "b'\\x1f\\xb6t}\\xc2\\x1a\\xe3@\\x013\\xef\\xd4\\x1e\\x96\\x80\\xa2@\\x01\\xbf\\xd6\\xd6\\xed\\x06\\x1a\\x83A\\x01&\\xc6O\"\\x8f`\\xb8A\\x01\\xc29l\\xe8E\\x97\\x9fA\\x01\\x94\\ngD\\x0bd\\xc1A\\x01\\xd5\\x81\\xb9a\\xf1H\\x96A\\x01\\xe1X\\x16\\xaf\\xe2\\xc0\\xbdA\\x01x\\x92\\xb6\\x06Nk\\x97A\\x01\\x9c\\xb9\"a\\xfe]\\xb2A\\x01;]\\x903\\xb2\\x8e\\x90A\\x01\\xf1.\\x92T\\x07\\x11\\xa3A\\x01\\xc1\\xd5\\xa43]T\\x97A\\x01\\xd4\\xaf\\\\x\\xff\\xef\\xc3A\\x01\\x84\\x8a}\\x00C\\x99\\x92A\\x010\\xc4\\xe0\\x1et\\r\\xb9A\\x01O\\xb1\\x0f\\x16\\xcb\\xa6\\xa7A\\x01#\\x14[$\\xb3\\xb1\\xcbA\\x01\\x99,p\\x9e\\xf2I\\x86A\\x01\\xca\\xe6A}[\\x9e\\xb8A\\x01n9QF\\xf8\\xd9\\xa6A\\x01`\\x12\\x14\\x06y\\x1b\\xb2A\\x01\\xc4\\xb7&\\xf5\\xee1\\xa7A\\x01[\\x08\\xf4\\x9fH\\xa8\\xbdA\\x01\\xeea\\x87G\\x87\\x80\\xaeA\\x01/\\xe3\\x08\\xa9\\x81\\x9a\\xb2A\\x01\\xae\\x7f\\xef)\\x8a\\x90\\x9aA\\x01\\xd1\\xd4&\\xcc0\\xa8\\xb2A\\x01\\x0b\\xf1\\xad6\\rx\\xa1A\\x01\\xaa\\x82\\xce\\xa7\\xddg\\xabA\\x01\\xc52\\x1a\\xb4\\xb1\\x8d\\xa4A\\x01M\\x7f\\xfc\\x99Y\\xc3\\xb0A\\x01\\xfaVd\\xa4\\xa5\\x13\\x9eA\\x01k\\xee\\xcd\\x7f\\xa0B\\xb4A\\x01|\\x9c\\xbb\\r\\xfdH\\xa4A\\x01\\xef\\xc1\\'\\x7f\\xe0\\x99\\xb8A\\x01\\xa8)\\x08\\xfaO\\xac\\xbdA\\x01\\xe6\\x95\\xda\\xb8-\\xd7\\xb6A\\x01`3kD\\xd6\\xc5\\xa5A\\x01\\xda\\xa7\\x8bTU\\xe5\\xb6A\\x01+\\xb6\\xe1HCC\\xa9A\\x01\\xea\\xf4\\xc2\\x15\\xe4\\x07\\xbeA\\x01O\\xab\\xa5\\x7f\\x0f\\xb0\\x93A\\x01 \\xf4\\x8d\\xaf\\xea\\xb0\\xb2A\\x01BS\\xc7\\xdev\\x90\\xaeA\\x01\\xfe\\xf8\\xcaV\\x1fT\\xa0A\\x01\\xaeJx\\xb8\\x1f\\xc7\\xb3A\\x01Hc\\xdf( \\xb8\\x9aA\\x01m\\xedY\\xb4K\\xad\\xa2A\\x01\\x97\\xa9V\\xa4\\xd9\\xc4\\xc0A\\x01\\xe2~\\x1c\\xc7-\\xda\\xb4A\\x01&0\\x06W\\xafA\\xb2A\\x01\\x11\\xec\\xb2\\xf5]\\xd6\\x9cA\\x01[\\x01\\x9e\\xff\\x88\\xc3\\xb6A\\x01\\xb8\\x94\\x12\\x02\\xc6\\x1b\\xa7A\\x01\\x96\\x80w\\xf2N\\t\\xb4A\\x01\\xd0\\x86\\xf3\\x99\\xce\\xdc\\xa0A\\x01\\xe5\\x07\\x02\\x99\\x05a\\xbbA\\x013d\\x11\\xf6\\x99l\\xa7A\\x019\\x9b\\xbeT\\xff\\xb0\\xa5A\\x01\\xb8\\'-c\\xbb\\x1d\\xaaA\\x01\\xd2\\x0bE\\xc3\\xea\\xbd\\xbfA\\x01\\x1bZ\\x8e\\xfe\\xa0\\xcd\\xa4A\\x01o\\x87\\x95\\x83\\x80M\\xadA\\x01\\x16\\xbf\\x81\\xe61\\x8f\\xa5@\\x01\\xde\\x8d\\x12\\xcc!!\\xa3@\\x01\\xb1\\x7f\\rR\\x99\\xcf\\xa2@\\x01'"
      ]
     },
     "execution_count": 5,
     "metadata": {},
     "output_type": "execute_result"
    }
   ],
   "source": [
    "a = cur.execute(f'SELECT Area FROM {cmpd}').fetchone()[0]\n",
    "a"
   ]
  },
  {
   "cell_type": "code",
   "execution_count": 6,
   "id": "266d1f57",
   "metadata": {},
   "outputs": [
    {
     "name": "stdout",
     "output_type": "stream",
     "text": [
      "b'\\x01\\x01\\x01\\x01\\x01\\x01\\x01\\x01\\x01\\x01\\x01\\x01\\x01\\x01\\x01\\x01\\x01\\x01\\x01\\x01\\x01\\x01\\x01\\x01\\x01\\x01\\x01\\x01\\x01\\x01\\x01\\x01\\x01\\x01\\x01\\x01\\x01\\x01\\x01\\x01\\x01\\x01\\x01\\x01\\x01\\x01\\x01\\x01\\x01\\x01\\x01\\x01\\x01\\x01\\x01\\x01\\x01\\x01\\x01\\x01\\x01\\x01\\x01\\x01\\x01\\x01\\x01'\n"
     ]
    }
   ],
   "source": [
    "# Parse Area column in Compounds table\n",
    "# With 67 files and 603 byes in the areas, this is 9 bytes per float\n",
    "print(a[8::9])\n",
    "# every 9th byte is 0x01 which suggests start byte"
   ]
  },
  {
   "cell_type": "code",
   "execution_count": 7,
   "id": "5c24bd20",
   "metadata": {},
   "outputs": [
    {
     "data": {
      "text/plain": [
       "Text(0.5, 1.0, 'Distribution of values looks like peak areas for a feature')"
      ]
     },
     "execution_count": 7,
     "metadata": {},
     "output_type": "execute_result"
    },
    {
     "data": {
      "image/png": "[encoded data removed]",
      "text/plain": [
       "<Figure size 432x288 with 1 Axes>"
      ]
     },
     "metadata": {
      "needs_background": "light"
     },
     "output_type": "display_data"
    }
   ],
   "source": [
    "import struct\n",
    "# https://stackoverflow.com/questions/50107670/python-convert-8-byte-ieee754-number-to-float\n",
    "l = []\n",
    "for i in np.arange(0, len(a), 9):\n",
    "    d = struct.unpack('d', a[i:i+8])[0]\n",
    "    l.append(d)\n",
    "#     print(i, d)\n",
    "plt.hist(l)\n",
    "plt.title('Distribution of values looks like peak areas for a feature')"
   ]
  },
  {
   "cell_type": "markdown",
   "id": "6c3f8206",
   "metadata": {},
   "source": [
    "### Do the PQF columns follow the same convention as Area (8 bytes, 1 separator byte)?\n",
    "### What are the unique values in each PQF? "
   ]
  },
  {
   "cell_type": "code",
   "execution_count": 8,
   "id": "37bc5b3b",
   "metadata": {},
   "outputs": [
    {
     "name": "stdout",
     "output_type": "stream",
     "text": [
      "603\n"
     ]
    },
    {
     "data": {
      "text/plain": [
       "{0.0,\n",
       " 0.00014751217291244972,\n",
       " 0.0002359598334711016,\n",
       " 0.00029000737197776175,\n",
       " 0.00030862262190284247,\n",
       " 0.00046801687285345095,\n",
       " 0.0007759596915077421,\n",
       " 0.0008897620506193199,\n",
       " 0.0011470318790684718,\n",
       " 0.001160524993541465,\n",
       " 0.00181411874036842,\n",
       " 0.0024265340610946638,\n",
       " 1.3496442183639802e-05,\n",
       " 2.231382513777258e-05,\n",
       " 5.2511902581283965e-06,\n",
       " 9.833605635908679e-05,\n",
       " b\"\\x9f\\x0cNt\\xdd'M?\",\n",
       " b'3\\xe4L*\\xf7\\xb8]?',\n",
       " b'W\\xc6\\xbf\\xbf8mI?',\n",
       " b'\\x00\\x00\\x00\\x00\\x00\\x00\\x00\\x00',\n",
       " b'\\x81\\x9e\\xb2)\\x05\\xac>?',\n",
       " b'\\x83\\xf7\\x95\\x958\\xc7\\x19?',\n",
       " b'\\xa4\"\\xaa\\xe3\\xd8M\\xec>',\n",
       " b'\\xd5\\x08\\xe7/l\\x06\\xd6>',\n",
       " b'\\xd9\\xae/c\\xd2e\\xf7>',\n",
       " b'\\xdd#\\xb6\\xea\\xafU#?',\n",
       " b'\\xea[\\xa1-\\x84\\x013?',\n",
       " b'\\xf3{`\\x11\\xd494?',\n",
       " b'\\xf5M.9\\x98\\x03S?',\n",
       " b'f\\xcb\\x1d\\x1a\\x00\\xcbR?',\n",
       " b'p\\xdb-\\x89\\x7f\\xed.?',\n",
       " b'}\\xc7\\xeb\\x8d\\xcf\\xe0c?'}"
      ]
     },
     "execution_count": 8,
     "metadata": {},
     "output_type": "execute_result"
    }
   ],
   "source": [
    "# Modality, Jaddedness, FWHM2Base, ZigZagIndex\n",
    "pqf = cur.execute(f'SELECT PQFZigZagIndex FROM {cmpd}').fetchone()[0] \n",
    "print(len(pqf))\n",
    "s = set()\n",
    "for i in np.arange(0, 603, 9):\n",
    "    raw = pqf[i: i+8]\n",
    "    val = struct.unpack('d', raw)[0]\n",
    "    s.add(val)\n",
    "    s.add(raw)\n",
    "# [s.add(x) for x in pqf]\n",
    "s"
   ]
  },
  {
   "cell_type": "code",
   "execution_count": 9,
   "id": "5e621863",
   "metadata": {},
   "outputs": [
    {
     "data": {
      "text/plain": [
       "(0.0,)"
      ]
     },
     "execution_count": 9,
     "metadata": {},
     "output_type": "execute_result"
    }
   ],
   "source": [
    "struct.unpack('d', pqf[:8])"
   ]
  },
  {
   "cell_type": "code",
   "execution_count": 22,
   "id": "e3e64ed1",
   "metadata": {},
   "outputs": [
    {
     "data": {
      "image/png": "[encoded data removed]",
      "text/plain": [
       "<Figure size 432x288 with 1 Axes>"
      ]
     },
     "metadata": {},
     "output_type": "display_data"
    }
   ],
   "source": [
    "import matplotlib.pyplot as plt\n",
    "import numpy as np\n",
    "import scipy.stats as stats\n",
    "import math\n",
    "import seaborn as sns\n",
    "\n",
    "mu = 0\n",
    "variance = 1\n",
    "sigma = math.sqrt(variance)\n",
    "x = np.linspace(mu - 3*sigma, mu + 3*sigma, 100)\n",
    "y= stats.norm.pdf(x, mu, sigma)\n",
    "plt.plot(x, y)\n",
    "plt.plot(x + 3, y)\n",
    "\n",
    "plt.text(-0.8, 0.2, 'Compound\\nDiscoverer')\n",
    "plt.text(2.2, 0.2, 'MZMine2')\n",
    "\n",
    "plt.xticks([])\n",
    "plt.yticks([])\n",
    "sns.despine(left=True)\n",
    "\n",
    "plt.savefig('../reports/figures/fig1/CD_mzmine_gaussians.png', bbox_inches='tight', dpi=300)"
   ]
  },
  {
   "cell_type": "code",
   "execution_count": null,
   "id": "7a12a6f9",
   "metadata": {},
   "outputs": [],
   "source": [
    "plt.plot()"
   ]
  },
  {
   "cell_type": "code",
   "execution_count": null,
   "id": "ac2c8197",
   "metadata": {},
   "outputs": [],
   "source": []
  },
  {
   "cell_type": "code",
   "execution_count": null,
   "id": "2240bf40",
   "metadata": {},
   "outputs": [],
   "source": []
  },
  {
   "cell_type": "code",
   "execution_count": null,
   "id": "a04b8f4b",
   "metadata": {},
   "outputs": [],
   "source": []
  },
  {
   "cell_type": "code",
   "execution_count": null,
   "id": "b7a7d782",
   "metadata": {},
   "outputs": [],
   "source": []
  },
  {
   "cell_type": "code",
   "execution_count": null,
   "id": "0b00c0d0",
   "metadata": {},
   "outputs": [],
   "source": []
  },
  {
   "cell_type": "code",
   "execution_count": null,
   "id": "c14608ce",
   "metadata": {},
   "outputs": [],
   "source": []
  },
  {
   "cell_type": "code",
   "execution_count": null,
   "id": "0d74faf4",
   "metadata": {},
   "outputs": [],
   "source": []
  },
  {
   "cell_type": "code",
   "execution_count": null,
   "id": "95e3ce3b",
   "metadata": {},
   "outputs": [],
   "source": []
  },
  {
   "cell_type": "code",
   "execution_count": null,
   "id": "97f30950",
   "metadata": {},
   "outputs": [],
   "source": []
  },
  {
   "cell_type": "code",
   "execution_count": null,
   "id": "aa104232",
   "metadata": {},
   "outputs": [],
   "source": []
  },
  {
   "cell_type": "code",
   "execution_count": null,
   "id": "f1302679",
   "metadata": {},
   "outputs": [],
   "source": []
  },
  {
   "cell_type": "code",
   "execution_count": null,
   "id": "dd419fa1",
   "metadata": {},
   "outputs": [],
   "source": []
  },
  {
   "cell_type": "code",
   "execution_count": null,
   "id": "c8f79f70",
   "metadata": {},
   "outputs": [],
   "source": []
  },
  {
   "cell_type": "code",
   "execution_count": null,
   "id": "86e9af93",
   "metadata": {},
   "outputs": [],
   "source": []
  },
  {
   "cell_type": "code",
   "execution_count": null,
   "id": "f7ba7d17",
   "metadata": {},
   "outputs": [],
   "source": []
  },
  {
   "cell_type": "code",
   "execution_count": null,
   "id": "205785f8",
   "metadata": {},
   "outputs": [],
   "source": []
  },
  {
   "cell_type": "code",
   "execution_count": null,
   "id": "b4f70164",
   "metadata": {},
   "outputs": [],
   "source": []
  },
  {
   "cell_type": "code",
   "execution_count": null,
   "id": "db32d73b",
   "metadata": {},
   "outputs": [],
   "source": []
  },
  {
   "cell_type": "code",
   "execution_count": null,
   "id": "fa3928c4",
   "metadata": {},
   "outputs": [],
   "source": []
  },
  {
   "cell_type": "code",
   "execution_count": null,
   "id": "2df45ec9",
   "metadata": {},
   "outputs": [],
   "source": []
  },
  {
   "cell_type": "code",
   "execution_count": null,
   "id": "3b7cbb90",
   "metadata": {},
   "outputs": [],
   "source": []
  },
  {
   "cell_type": "code",
   "execution_count": null,
   "id": "56d5bf42",
   "metadata": {},
   "outputs": [],
   "source": []
  },
  {
   "cell_type": "code",
   "execution_count": null,
   "id": "c4541351",
   "metadata": {},
   "outputs": [],
   "source": []
  },
  {
   "cell_type": "code",
   "execution_count": null,
   "id": "9cdbe306",
   "metadata": {},
   "outputs": [],
   "source": []
  },
  {
   "cell_type": "code",
   "execution_count": null,
   "id": "b9101dcc",
   "metadata": {},
   "outputs": [],
   "source": []
  },
  {
   "cell_type": "code",
   "execution_count": null,
   "id": "12148a14",
   "metadata": {},
   "outputs": [],
   "source": []
  },
  {
   "cell_type": "code",
   "execution_count": null,
   "id": "da6f9cce",
   "metadata": {},
   "outputs": [],
   "source": []
  },
  {
   "cell_type": "code",
   "execution_count": null,
   "id": "4e296666",
   "metadata": {},
   "outputs": [],
   "source": []
  },
  {
   "cell_type": "code",
   "execution_count": null,
   "id": "d6628f2d",
   "metadata": {},
   "outputs": [],
   "source": []
  }
 ],
 "metadata": {
  "kernelspec": {
   "display_name": "Python 3",
   "language": "python",
   "name": "python3"
  },
  "language_info": {
   "codemirror_mode": {
    "name": "ipython",
    "version": 3
   },
   "file_extension": ".py",
   "mimetype": "text/x-python",
   "name": "python",
   "nbconvert_exporter": "python",
   "pygments_lexer": "ipython3",
   "version": "3.7.10"
  }
 },
 "nbformat": 4,
 "nbformat_minor": 5
}
