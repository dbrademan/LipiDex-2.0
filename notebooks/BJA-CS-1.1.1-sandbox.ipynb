{
 "cells": [
  {
   "cell_type": "code",
   "execution_count": 1,
   "id": "40adf2d9",
   "metadata": {},
   "outputs": [
    {
     "name": "stdout",
     "output_type": "stream",
     "text": [
      "Hello World\r\n"
     ]
    }
   ],
   "source": [
    "Console.WriteLine(\"Hello World\")"
   ]
  },
  {
   "cell_type": "code",
   "execution_count": 94,
   "id": "65f1fe0b",
   "metadata": {},
   "outputs": [],
   "source": [
    "using System.Data.SqlClient;\n",
    "using System;"
   ]
  },
  {
   "cell_type": "code",
   "execution_count": 6,
   "id": "27ce366c",
   "metadata": {},
   "outputs": [
    {
     "name": "stderr",
     "output_type": "stream",
     "text": [
      "\r\n",
      "(1,1): error CS0246: The type or namespace name 'DataTable' could not be found (are you missing a using directive or an assembly reference?)\r\n",
      "\r\n"
     ]
    },
    {
     "ename": "Error",
     "evalue": "compilation error",
     "output_type": "error",
     "traceback": []
    }
   ],
   "source": [
    "DataTable x;\n",
    "x"
   ]
  },
  {
   "cell_type": "code",
   "execution_count": 4,
   "id": "f476dbde",
   "metadata": {},
   "outputs": [
    {
     "name": "stdout",
     "output_type": "stream",
     "text": [
      "hi\r\n"
     ]
    }
   ],
   "source": [
    "string x = \"hi\";\n",
    "Console.WriteLine(x)"
   ]
  },
  {
   "cell_type": "code",
   "execution_count": 12,
   "id": "0c050ffa",
   "metadata": {},
   "outputs": [],
   "source": [
    "public string x = \"\";"
   ]
  },
  {
   "cell_type": "code",
   "execution_count": 29,
   "id": "1eaf85ad",
   "metadata": {
    "scrolled": true
   },
   "outputs": [
    {
     "name": "stdout",
     "output_type": "stream",
     "text": [
      "PC\n",
      "20:5\n"
     ]
    }
   ],
   "source": [
    "string l = \"PC 20:5\";\n",
    "string thing;\n",
    "foreach (string thing in l.Split(' ')) {Console.WriteLine(thing);}"
   ]
  },
  {
   "cell_type": "markdown",
   "id": "9dd87085",
   "metadata": {},
   "source": [
    "## Working with nuget packages\n",
    "https://github.com/dotnet/interactive/blob/main/docs/nuget-overview.md\n",
    "\n",
    "`#r nuget` is the \"magic command\" for .NET interactive\n",
    "\n",
    "## Remote Nuget sources\n",
    "`#i nuget:` can point to a web URL  or a local folder"
   ]
  },
  {
   "cell_type": "code",
   "execution_count": 31,
   "id": "010e61b8",
   "metadata": {},
   "outputs": [
    {
     "data": {
      "text/html": [
       "<div><div></div><div></div><div><strong>Installed Packages</strong><ul><li><span>System.Text.Json, 6.0.6</span></li></ul></div></div>"
      ]
     },
     "metadata": {},
     "output_type": "display_data"
    }
   ],
   "source": [
    "#r \"nuget:System.Text.Json\""
   ]
  },
  {
   "cell_type": "markdown",
   "id": "fa5bc008",
   "metadata": {},
   "source": [
    "#### `nuget:csgoslin` works because I followed the build instructions for CS-Goslin (performed the build in my bjanderson23 user directory)\n",
    "https://github.com/lifs-tools/csgoslin\n",
    "#### Then I went to the NuGet package manager window for Lipidex2.0 in Visual studio, added the `C:/users/bjanderson23/csharp_libs/csgoslin/bin/debug` directory to package sources. This directory contains the `.nupkg` file for csgoslin. \n",
    "\n",
    "#### Because of this, this notebook is now aware of `r# \"nuget:csgoslin\"`\n",
    "\n",
    "### for some reason, I cannot do `#r \"nuget:CSMSL\"`, likely because it is not a .nupkg that the package manager is aware of"
   ]
  },
  {
   "cell_type": "code",
   "execution_count": 115,
   "id": "f5013318",
   "metadata": {
    "scrolled": false
   },
   "outputs": [
    {
     "data": {
      "text/html": [
       "<div><div></div><div></div><div><strong>Installed Packages</strong><ul><li><span>csgoslin, 2.0.1</span></li><li><span>SQLitePCLRaw.core, 2.1.2</span></li><li><span>System.Data.SQLite, 1.0.116</span></li><li><span>System.Data.SQLite.Core, 1.0.116</span></li></ul></div></div>"
      ]
     },
     "metadata": {},
     "output_type": "display_data"
    }
   ],
   "source": [
    "#r \"nuget:csgoslin\"\n",
    "#r \"D:\\Lipidex2\\packages\\CSMSL.0.3.1\\lib\\net40\\CSMSL.dll\"\n",
    "\n",
    "#r \"nuget:System.Data.SQLite.Core\"\n",
    "#r \"nuget:SQLitePCLRaw.core\"\n",
    "#r \"nuget:System.Data.SQLite\"\n"
   ]
  },
  {
   "cell_type": "code",
   "execution_count": 116,
   "id": "38402659",
   "metadata": {},
   "outputs": [],
   "source": [
    "using CSMSL;\n",
    "using csgoslin;\n",
    "using System.Data.SQLite;"
   ]
  },
  {
   "cell_type": "markdown",
   "id": "39ecda3f",
   "metadata": {},
   "source": [
    "## byte array practice"
   ]
  },
  {
   "cell_type": "code",
   "execution_count": 140,
   "id": "63342556",
   "metadata": {},
   "outputs": [],
   "source": [
    "byte[] data = new byte[3];\n",
    "data[0] = 100;\n",
    "data[1] = 0;\n",
    "data[2] = byte.MaxValue;\n",
    "data\n"
   ]
  },
  {
   "cell_type": "code",
   "execution_count": 141,
   "id": "82bec555",
   "metadata": {},
   "outputs": [
    {
     "data": {
      "text/html": [
       "<table><thead><tr><th><i>index</i></th><th>value</th></tr></thead><tbody><tr><td>0</td><td><div class=\"dni-plaintext\">100</div></td></tr><tr><td>1</td><td><div class=\"dni-plaintext\">0</div></td></tr><tr><td>2</td><td><div class=\"dni-plaintext\">255</div></td></tr></tbody></table>"
      ]
     },
     "execution_count": 141,
     "metadata": {},
     "output_type": "execute_result"
    }
   ],
   "source": []
  },
  {
   "cell_type": "markdown",
   "id": "32d96d5a",
   "metadata": {},
   "source": [
    "## SQLite parsing"
   ]
  },
  {
   "cell_type": "code",
   "execution_count": 117,
   "id": "43af34bc",
   "metadata": {},
   "outputs": [],
   "source": [
    "string filepath = @\"D:\\Lipidex2\\data\\CD\\Nilerat_lipids_CD33_aligned.cdResult\";\n",
    "//string connectionString = \"Data Source=\" + filepath;\n",
    "string connectionString = $\"URI=file:{filepath}\";\n",
    "string selectVersion = \"SELECT SQLITE_VERSION()\";"
   ]
  },
  {
   "cell_type": "code",
   "execution_count": 124,
   "id": "4981f01a",
   "metadata": {},
   "outputs": [
    {
     "data": {
      "text/plain": [
       "URI=file:D:\\Lipidex2\\data\\CD\\Nilerat_lipids_CD33_aligned.cdResult"
      ]
     },
     "execution_count": 124,
     "metadata": {},
     "output_type": "execute_result"
    }
   ],
   "source": [
    "connectionString"
   ]
  },
  {
   "cell_type": "code",
   "execution_count": 136,
   "id": "63d654a4",
   "metadata": {},
   "outputs": [
    {
     "name": "stderr",
     "output_type": "stream",
     "text": [
      "\r\n",
      "(2,1): error CS0201: Only assignment, call, increment, decrement, await, and new object expressions can be used as a statement\r\n",
      "\r\n"
     ]
    },
    {
     "ename": "Error",
     "evalue": "compilation error",
     "output_type": "error",
     "traceback": []
    }
   ],
   "source": [
    "byte[] a = BitConverter.GetBytes(423478.2349812312312312);\n",
    "a;"
   ]
  },
  {
   "cell_type": "code",
   "execution_count": null,
   "id": "d4637164",
   "metadata": {},
   "outputs": [],
   "source": [
    "byte[] test = "
   ]
  },
  {
   "cell_type": "code",
   "execution_count": 123,
   "id": "6ad889b0",
   "metadata": {},
   "outputs": [
    {
     "ename": "Error",
     "evalue": "System.EntryPointNotFoundException: Unable to find an entry point named 'SIb4c632894b76cc1d' in DLL 'SQLite.Interop.dll'.\r\n   at System.Data.SQLite.UnsafeNativeMethods.sqlite3_open_interop(Byte[] utf8Filename, Byte[] vfsName, SQLiteOpenFlagsEnum flags, Int32 extFuncs, IntPtr& db)\r\n   at System.Data.SQLite.SQLite3.Open(String strFilename, String vfsName, SQLiteConnectionFlags connectionFlags, SQLiteOpenFlagsEnum openFlags, Int32 maxPoolSize, Boolean usePool)\r\n   at System.Data.SQLite.SQLiteConnection.Open()\r\n   at Submission#118.<<Initialize>>d__0.MoveNext()\r\n--- End of stack trace from previous location ---\r\n   at Microsoft.CodeAnalysis.Scripting.ScriptExecutionState.RunSubmissionsAsync[TResult](ImmutableArray`1 precedingExecutors, Func`2 currentExecutor, StrongBox`1 exceptionHolderOpt, Func`2 catchExceptionOpt, CancellationToken cancellationToken)",
     "output_type": "error",
     "traceback": [
      "System.EntryPointNotFoundException: Unable to find an entry point named 'SIb4c632894b76cc1d' in DLL 'SQLite.Interop.dll'.\r\n   at System.Data.SQLite.UnsafeNativeMethods.sqlite3_open_interop(Byte[] utf8Filename, Byte[] vfsName, SQLiteOpenFlagsEnum flags, Int32 extFuncs, IntPtr& db)\r\n   at System.Data.SQLite.SQLite3.Open(String strFilename, String vfsName, SQLiteConnectionFlags connectionFlags, SQLiteOpenFlagsEnum openFlags, Int32 maxPoolSize, Boolean usePool)\r\n   at System.Data.SQLite.SQLiteConnection.Open()\r\n   at Submission#118.<<Initialize>>d__0.MoveNext()\r\n--- End of stack trace from previous location ---\r\n   at Microsoft.CodeAnalysis.Scripting.ScriptExecutionState.RunSubmissionsAsync[TResult](ImmutableArray`1 precedingExecutors, Func`2 currentExecutor, StrongBox`1 exceptionHolderOpt, Func`2 catchExceptionOpt, CancellationToken cancellationToken)",
      "   at System.Data.SQLite.UnsafeNativeMethods.sqlite3_open_interop(Byte[] utf8Filename, Byte[] vfsName, SQLiteOpenFlagsEnum flags, Int32 extFuncs, IntPtr& db)",
      "   at System.Data.SQLite.SQLite3.Open(String strFilename, String vfsName, SQLiteConnectionFlags connectionFlags, SQLiteOpenFlagsEnum openFlags, Int32 maxPoolSize, Boolean usePool)",
      "   at System.Data.SQLite.SQLiteConnection.Open()",
      "   at Submission#118.<<Initialize>>d__0.MoveNext()",
      "--- End of stack trace from previous location ---",
      "   at Microsoft.CodeAnalysis.Scripting.ScriptExecutionState.RunSubmissionsAsync[TResult](ImmutableArray`1 precedingExecutors, Func`2 currentExecutor, StrongBox`1 exceptionHolderOpt, Func`2 catchExceptionOpt, CancellationToken cancellationToken)"
     ]
    }
   ],
   "source": [
    "using (SQLiteConnection connection = new SQLiteConnection(connectionString))\n",
    "{\n",
    "    //connection.Open();\n",
    "    connection.Open();\n",
    "}"
   ]
  },
  {
   "cell_type": "code",
   "execution_count": null,
   "id": "4d7afee0",
   "metadata": {},
   "outputs": [],
   "source": []
  },
  {
   "cell_type": "code",
   "execution_count": null,
   "id": "02a30c1f",
   "metadata": {},
   "outputs": [],
   "source": []
  },
  {
   "cell_type": "code",
   "execution_count": null,
   "id": "e35b3575",
   "metadata": {},
   "outputs": [],
   "source": []
  },
  {
   "cell_type": "code",
   "execution_count": 18,
   "id": "8f4d3310",
   "metadata": {},
   "outputs": [],
   "source": [
    "LipidParser parser = new LipidParser();"
   ]
  },
  {
   "cell_type": "code",
   "execution_count": 78,
   "id": "5af33b18",
   "metadata": {},
   "outputs": [
    {
     "data": {
      "text/html": [
       "<table><thead><tr><th>headgroup</th><th>info</th><th>fa</th><th>fa_list</th></tr></thead><tbody><tr><td><div class=\"dni-plaintext\">{ csgoslin.Headgroup: headgroup: GlcCer, lipid_category: SP, lipid_class: GLCCER, use_headgroup: False, decorators: [  ], sp_exception: False }</div></td><td><div class=\"dni-plaintext\">{ csgoslin.LipidSpeciesInfo: level: SPECIES, num_ethers: 0, num_specified_fa: 0, total_fa: 2, extended_class: ESTER, lipid_class: GLCCER, num_carbon: 20, lipid_FA_bond_type: LCB_REGULAR, fg_exceptions: [ acyl, alkyl, cy, cc, acetoxy ], name: info, position: 0, count: 1, stereochemistry: , ring_stereo: , double_bonds: { csgoslin.DoubleBonds: num_double_bonds: 0, double_bond_positions: [  ] }, is_atomic: False, elements: [ { [C, 0]: Key: C, Value: 0 }, { [C13, 0]: Key: C13, Value: 0 }, { [H, 0]: Key: H, Value: 0 }, { [H2, 0]: Key: H2, Value: 0 }, { [N, 0]: Key: N, Value: 0 }, { [N15, 0]: Key: N15, Value: 0 }, { [O, 0]: Key: O, Value: 0 }, { [O17, 0]: Key: O17, Value: 0 }, { [O18, 0]: Key: O18, Value: 0 }, { [P, 0]: Key: P, Value: 0 }, { [P32, 0]: Key: P32, Value: 0 }, { [S, 0]: Key: S, Value: 0 }, { [S34, 0]: Key: S34, Value: 0 }, { [S33, 0]: Key: S33, Value: 0 }, { [F, 0]: Key: F, Value: 0 }, { [Cl, 0]: Key: Cl, Value: 0 }, { [Br, 0]: Key: Br, Value: 0 }, { [I, 0]: Key: I, Value: 0 }, { [As, 0]: Key: As, Value: 0 } ], functional_groups: [ { [O, System.Collections.Generic.List`1[csgoslin.FunctionalGroup]]: Key: O, Value: [ { csgoslin.FunctionalGroup: name: O, position: -1, count: 1, stereochemistry: , ring_stereo: , double_bonds: { csgoslin.DoubleBonds: num_double_bonds: 0, double_bond_positions: [  ] }, is_atomic: True, elements: [ [C, 0], [C13, 0], [H, 0], [H2, 0], [N, 0], [N15, 0], [O, 1], [O17, 0], [O18, 0], [P, 0], [P32, 0], [S, 0], [S34, 0], [S33, 0], [F, 0], [Cl, 0], [Br, 0], [I, 0], [As, 0] ], functional_groups: [  ] } ] }, { [[X], System.Collections.Generic.List`1[csgoslin.FunctionalGroup]]: Key: [X], Value: [ { csgoslin.FunctionalGroup: name: X, position: -1, count: 1, stereochemistry: , ring_stereo: , double_bonds: { csgoslin.DoubleBonds: num_double_bonds: 0, double_bond_positions: [  ] }, is_atomic: False, elements: [ [C, 0], [C13, 0], [H, 0], [H2, 0], [N, 0], [N15, 0], [O, 1], [O17, 0], [O18, 0], [P, 0], [P32, 0], [S, 0], [S34, 0], [S33, 0], [F, 0], [Cl, 0], [Br, 0], [I, 0], [As, 0] ], functional_groups: [  ] } ] } ] }</div></td><td><div class=\"dni-plaintext\">[  ]</div></td><td><div class=\"dni-plaintext\">[ { csgoslin.FattyAcid: num_carbon: 20, lipid_FA_bond_type: LCB_REGULAR, fg_exceptions: [ acyl, alkyl, cy, cc, acetoxy ], name: LCB, position: 0, count: 1, stereochemistry: , ring_stereo: , double_bonds: { csgoslin.DoubleBonds: num_double_bonds: 0, double_bond_positions: [  ] }, is_atomic: False, elements: [ { [C, 20]: Key: C, Value: 20 }, { [C13, 0]: Key: C13, Value: 0 }, { [H, 41]: Key: H, Value: 41 }, { [H2, 0]: Key: H2, Value: 0 }, { [N, 1]: Key: N, Value: 1 }, { [N15, 0]: Key: N15, Value: 0 }, { [O, 0]: Key: O, Value: 0 }, { [O17, 0]: Key: O17, Value: 0 }, { [O18, 0]: Key: O18, Value: 0 }, { [P, 0]: Key: P, Value: 0 }, { [P32, 0]: Key: P32, Value: 0 }, { [S, 0]: Key: S, Value: 0 }, { [S34, 0]: Key: S34, Value: 0 }, { [S33, 0]: Key: S33, Value: 0 }, { [F, 0]: Key: F, Value: 0 }, { [Cl, 0]: Key: Cl, Value: 0 }, { [Br, 0]: Key: Br, Value: 0 }, { [I, 0]: Key: I, Value: 0 }, { [As, 0]: Key: As, Value: 0 } ], functional_groups: [ { [O, System.Collections.Generic.List`1[csgoslin.FunctionalGroup]]: Key: O, Value: [ { csgoslin.FunctionalGroup: name: O, position: -1, count: 1, stereochemistry: , ring_stereo: , double_bonds: csgoslin.DoubleBonds, is_atomic: True, elements: [ [C, 0], [C13, 0], [H, 0], [H2, 0], [N, 0], [N15, 0], [O, 1], [O17, 0], [O18, 0], [P, 0], [P32, 0], [S, 0], [S34, 0], [S33, 0], [F, 0], [Cl, 0], [Br, 0], [I, 0], [As, 0] ], functional_groups: [  ] } ] }, { [[X], System.Collections.Generic.List`1[csgoslin.FunctionalGroup]]: Key: [X], Value: [ { csgoslin.FunctionalGroup: name: X, position: -1, count: 1, stereochemistry: , ring_stereo: , double_bonds: csgoslin.DoubleBonds, is_atomic: False, elements: [ [C, 0], [C13, 0], [H, 0], [H2, 0], [N, 0], [N15, 0], [O, 1], [O17, 0], [O18, 0], [P, 0], [P32, 0], [S, 0], [S34, 0], [S33, 0], [F, 0], [Cl, 0], [Br, 0], [I, 0], [As, 0] ], functional_groups: [  ] } ] } ] } ]</div></td></tr></tbody></table>"
      ]
     },
     "execution_count": 78,
     "metadata": {},
     "output_type": "execute_result"
    }
   ],
   "source": [
    "var result = parser.parse(\"GlcCer 20:0;O\");\n",
    "result.lipid"
   ]
  },
  {
   "cell_type": "code",
   "execution_count": 54,
   "id": "26329610",
   "metadata": {},
   "outputs": [
    {
     "data": {
      "text/html": [
       "<table><thead><tr><th><i>key</i></th><th>num_carbon</th><th>lipid_FA_bond_type</th><th>fg_exceptions</th><th>name</th><th>position</th><th>count</th><th>stereochemistry</th><th>ring_stereo</th><th>double_bonds</th><th>is_atomic</th><th>elements</th><th>functional_groups</th></tr></thead><tbody><tr><td>FA1</td><td><div class=\"dni-plaintext\">18</div></td><td><span>ESTER</span></td><td><div class=\"dni-plaintext\">[ acyl, alkyl, cy, cc, acetoxy ]</div></td><td>FA1</td><td><div class=\"dni-plaintext\">0</div></td><td><div class=\"dni-plaintext\">1</div></td><td></td><td></td><td><table><thead><tr><th>num_double_bonds</th><th>double_bond_positions</th></tr></thead><tbody><tr><td><div class=\"dni-plaintext\">2</div></td><td><div class=\"dni-plaintext\">[  ]</div></td></tr></tbody></table></td><td><div class=\"dni-plaintext\">False</div></td><td><div class=\"dni-plaintext\">[ { [C, 18]: Key: C, Value: 18 }, { [C13, 0]: Key: C13, Value: 0 }, { [H, 31]: Key: H, Value: 31 }, { [H2, 0]: Key: H2, Value: 0 }, { [N, 0]: Key: N, Value: 0 }, { [N15, 0]: Key: N15, Value: 0 }, { [O, 1]: Key: O, Value: 1 }, { [O17, 0]: Key: O17, Value: 0 }, { [O18, 0]: Key: O18, Value: 0 }, { [P, 0]: Key: P, Value: 0 }, { [P32, 0]: Key: P32, Value: 0 }, { [S, 0]: Key: S, Value: 0 }, { [S34, 0]: Key: S34, Value: 0 }, { [S33, 0]: Key: S33, Value: 0 }, { [F, 0]: Key: F, Value: 0 }, { [Cl, 0]: Key: Cl, Value: 0 }, { [Br, 0]: Key: Br, Value: 0 }, { [I, 0]: Key: I, Value: 0 }, { [As, 0]: Key: As, Value: 0 } ]</div></td><td><div class=\"dni-plaintext\">[  ]</div></td></tr><tr><td>FA2</td><td><div class=\"dni-plaintext\">20</div></td><td><span>ESTER</span></td><td><div class=\"dni-plaintext\">[ acyl, alkyl, cy, cc, acetoxy ]</div></td><td>FA2</td><td><div class=\"dni-plaintext\">0</div></td><td><div class=\"dni-plaintext\">1</div></td><td></td><td></td><td><table><thead><tr><th>num_double_bonds</th><th>double_bond_positions</th></tr></thead><tbody><tr><td><div class=\"dni-plaintext\">1</div></td><td><div class=\"dni-plaintext\">[  ]</div></td></tr></tbody></table></td><td><div class=\"dni-plaintext\">False</div></td><td><div class=\"dni-plaintext\">[ { [C, 20]: Key: C, Value: 20 }, { [C13, 0]: Key: C13, Value: 0 }, { [H, 37]: Key: H, Value: 37 }, { [H2, 0]: Key: H2, Value: 0 }, { [N, 0]: Key: N, Value: 0 }, { [N15, 0]: Key: N15, Value: 0 }, { [O, 1]: Key: O, Value: 1 }, { [O17, 0]: Key: O17, Value: 0 }, { [O18, 0]: Key: O18, Value: 0 }, { [P, 0]: Key: P, Value: 0 }, { [P32, 0]: Key: P32, Value: 0 }, { [S, 0]: Key: S, Value: 0 }, { [S34, 0]: Key: S34, Value: 0 }, { [S33, 0]: Key: S33, Value: 0 }, { [F, 0]: Key: F, Value: 0 }, { [Cl, 0]: Key: Cl, Value: 0 }, { [Br, 0]: Key: Br, Value: 0 }, { [I, 0]: Key: I, Value: 0 }, { [As, 0]: Key: As, Value: 0 } ]</div></td><td><div class=\"dni-plaintext\">[  ]</div></td></tr><tr><td>FA3</td><td><div class=\"dni-plaintext\">10</div></td><td><span>ESTER</span></td><td><div class=\"dni-plaintext\">[ acyl, alkyl, cy, cc, acetoxy ]</div></td><td>FA3</td><td><div class=\"dni-plaintext\">0</div></td><td><div class=\"dni-plaintext\">1</div></td><td></td><td></td><td><table><thead><tr><th>num_double_bonds</th><th>double_bond_positions</th></tr></thead><tbody><tr><td><div class=\"dni-plaintext\">3</div></td><td><div class=\"dni-plaintext\">[  ]</div></td></tr></tbody></table></td><td><div class=\"dni-plaintext\">False</div></td><td><div class=\"dni-plaintext\">[ { [C, 10]: Key: C, Value: 10 }, { [C13, 0]: Key: C13, Value: 0 }, { [H, 13]: Key: H, Value: 13 }, { [H2, 0]: Key: H2, Value: 0 }, { [N, 0]: Key: N, Value: 0 }, { [N15, 0]: Key: N15, Value: 0 }, { [O, 1]: Key: O, Value: 1 }, { [O17, 0]: Key: O17, Value: 0 }, { [O18, 0]: Key: O18, Value: 0 }, { [P, 0]: Key: P, Value: 0 }, { [P32, 0]: Key: P32, Value: 0 }, { [S, 0]: Key: S, Value: 0 }, { [S34, 0]: Key: S34, Value: 0 }, { [S33, 0]: Key: S33, Value: 0 }, { [F, 0]: Key: F, Value: 0 }, { [Cl, 0]: Key: Cl, Value: 0 }, { [Br, 0]: Key: Br, Value: 0 }, { [I, 0]: Key: I, Value: 0 }, { [As, 0]: Key: As, Value: 0 } ]</div></td><td><div class=\"dni-plaintext\">[  ]</div></td></tr></tbody></table>"
      ]
     },
     "execution_count": 54,
     "metadata": {},
     "output_type": "execute_result"
    }
   ],
   "source": [
    "result.lipid.fa"
   ]
  },
  {
   "cell_type": "code",
   "execution_count": 48,
   "id": "acb9e5ea",
   "metadata": {
    "scrolled": true
   },
   "outputs": [
    {
     "data": {
      "text/html": [
       "<table><thead><tr><th><i>key</i></th><th>value</th></tr></thead><tbody><tr><td><span>C</span></td><td><div class=\"dni-plaintext\">18</div></td></tr><tr><td><span>C13</span></td><td><div class=\"dni-plaintext\">0</div></td></tr><tr><td><span>H</span></td><td><div class=\"dni-plaintext\">31</div></td></tr><tr><td><span>H2</span></td><td><div class=\"dni-plaintext\">0</div></td></tr><tr><td><span>N</span></td><td><div class=\"dni-plaintext\">0</div></td></tr><tr><td><span>N15</span></td><td><div class=\"dni-plaintext\">0</div></td></tr><tr><td><span>O</span></td><td><div class=\"dni-plaintext\">1</div></td></tr><tr><td><span>O17</span></td><td><div class=\"dni-plaintext\">0</div></td></tr><tr><td><span>O18</span></td><td><div class=\"dni-plaintext\">0</div></td></tr><tr><td><span>P</span></td><td><div class=\"dni-plaintext\">0</div></td></tr><tr><td><span>P32</span></td><td><div class=\"dni-plaintext\">0</div></td></tr><tr><td><span>S</span></td><td><div class=\"dni-plaintext\">0</div></td></tr><tr><td><span>S34</span></td><td><div class=\"dni-plaintext\">0</div></td></tr><tr><td><span>S33</span></td><td><div class=\"dni-plaintext\">0</div></td></tr><tr><td><span>F</span></td><td><div class=\"dni-plaintext\">0</div></td></tr><tr><td><span>Cl</span></td><td><div class=\"dni-plaintext\">0</div></td></tr><tr><td><span>Br</span></td><td><div class=\"dni-plaintext\">0</div></td></tr><tr><td><span>I</span></td><td><div class=\"dni-plaintext\">0</div></td></tr><tr><td><span>As</span></td><td><div class=\"dni-plaintext\">0</div></td></tr></tbody></table>"
      ]
     },
     "execution_count": 48,
     "metadata": {},
     "output_type": "execute_result"
    }
   ],
   "source": [
    "result.lipid.fa_list[0].get_elements()"
   ]
  },
  {
   "cell_type": "markdown",
   "id": "e533a4d0",
   "metadata": {},
   "source": [
    "# SQL database connection and reading"
   ]
  },
  {
   "cell_type": "code",
   "execution_count": 97,
   "id": "745bd6c9",
   "metadata": {},
   "outputs": [],
   "source": [
    "using System.Data.SqlClient;"
   ]
  },
  {
   "cell_type": "code",
   "execution_count": 99,
   "id": "900b7d0d",
   "metadata": {},
   "outputs": [
    {
     "name": "stderr",
     "output_type": "stream",
     "text": [
      "\r\n",
      "(1,1): error CS0234: The type or namespace name 'SqlConnection' does not exist in the namespace 'System.Data.SqlClient' (are you missing an assembly reference?)\r\n",
      "\r\n"
     ]
    },
    {
     "ename": "Error",
     "evalue": "compilation error",
     "output_type": "error",
     "traceback": []
    }
   ],
   "source": [
    "System.Data.SqlClient."
   ]
  },
  {
   "cell_type": "code",
   "execution_count": 98,
   "id": "49319b05",
   "metadata": {},
   "outputs": [
    {
     "name": "stderr",
     "output_type": "stream",
     "text": [
      "\r\n",
      "(4,1): error CS0246: The type or namespace name 'SqlConnection' could not be found (are you missing a using directive or an assembly reference?)\r\n",
      "\r\n",
      "(6,8): error CS0246: The type or namespace name 'SqlConnection' could not be found (are you missing a using directive or an assembly reference?)\r\n",
      "\r\n",
      "(6,33): error CS0246: The type or namespace name 'SqlConnection' could not be found (are you missing a using directive or an assembly reference?)\r\n",
      "\r\n"
     ]
    },
    {
     "ename": "Error",
     "evalue": "compilation error",
     "output_type": "error",
     "traceback": []
    }
   ],
   "source": [
    "\n",
    "\n",
    "string filepath = @\"D:\\Lipidex2\\data\\CD\\Nilerat_lipids_CD33_aligned.cdResult\";\n",
    "SqlConnection conn;\n",
    "\n",
    "using (SqlConnection conn = new SqlConnection(filepath)) \n",
    "{\n",
    "    \n",
    "}"
   ]
  },
  {
   "cell_type": "code",
   "execution_count": 93,
   "id": "8c368b3d",
   "metadata": {},
   "outputs": [
    {
     "name": "stderr",
     "output_type": "stream",
     "text": [
      "\r\n",
      "(1,1): error CS0118: 'System.Data.SqlClient' is a namespace but is used like a variable\r\n",
      "\r\n"
     ]
    },
    {
     "ename": "Error",
     "evalue": "compilation error",
     "output_type": "error",
     "traceback": []
    }
   ],
   "source": [
    "System.Data.SqlClient."
   ]
  },
  {
   "cell_type": "code",
   "execution_count": null,
   "id": "86c9c4de",
   "metadata": {},
   "outputs": [],
   "source": []
  },
  {
   "cell_type": "code",
   "execution_count": null,
   "id": "71f4fc8c",
   "metadata": {},
   "outputs": [],
   "source": []
  },
  {
   "cell_type": "code",
   "execution_count": null,
   "id": "51a366eb",
   "metadata": {},
   "outputs": [],
   "source": []
  },
  {
   "cell_type": "code",
   "execution_count": null,
   "id": "79644a86",
   "metadata": {},
   "outputs": [],
   "source": []
  },
  {
   "cell_type": "code",
   "execution_count": null,
   "id": "8169956f",
   "metadata": {},
   "outputs": [],
   "source": []
  },
  {
   "cell_type": "code",
   "execution_count": null,
   "id": "ed563272",
   "metadata": {},
   "outputs": [],
   "source": []
  },
  {
   "cell_type": "code",
   "execution_count": null,
   "id": "8a0c0e6f",
   "metadata": {},
   "outputs": [],
   "source": []
  },
  {
   "cell_type": "code",
   "execution_count": null,
   "id": "89490b86",
   "metadata": {},
   "outputs": [],
   "source": []
  },
  {
   "cell_type": "code",
   "execution_count": null,
   "id": "15407d68",
   "metadata": {},
   "outputs": [],
   "source": []
  },
  {
   "cell_type": "code",
   "execution_count": null,
   "id": "f74bb001",
   "metadata": {},
   "outputs": [],
   "source": []
  },
  {
   "cell_type": "code",
   "execution_count": null,
   "id": "c2123e6e",
   "metadata": {},
   "outputs": [],
   "source": []
  },
  {
   "cell_type": "code",
   "execution_count": null,
   "id": "35df0050",
   "metadata": {},
   "outputs": [],
   "source": []
  },
  {
   "cell_type": "code",
   "execution_count": null,
   "id": "a58329e4",
   "metadata": {},
   "outputs": [],
   "source": []
  },
  {
   "cell_type": "code",
   "execution_count": null,
   "id": "79fd9a75",
   "metadata": {},
   "outputs": [],
   "source": []
  },
  {
   "cell_type": "code",
   "execution_count": null,
   "id": "a2650efa",
   "metadata": {},
   "outputs": [],
   "source": []
  },
  {
   "cell_type": "code",
   "execution_count": null,
   "id": "983003ea",
   "metadata": {},
   "outputs": [],
   "source": []
  },
  {
   "cell_type": "code",
   "execution_count": null,
   "id": "7bc62fa0",
   "metadata": {},
   "outputs": [],
   "source": []
  },
  {
   "cell_type": "code",
   "execution_count": null,
   "id": "3ed051d7",
   "metadata": {},
   "outputs": [],
   "source": []
  },
  {
   "cell_type": "code",
   "execution_count": null,
   "id": "9d947b65",
   "metadata": {},
   "outputs": [],
   "source": []
  },
  {
   "cell_type": "code",
   "execution_count": null,
   "id": "45e6fb20",
   "metadata": {},
   "outputs": [],
   "source": []
  },
  {
   "cell_type": "code",
   "execution_count": null,
   "id": "7c56a297",
   "metadata": {},
   "outputs": [],
   "source": []
  },
  {
   "cell_type": "code",
   "execution_count": null,
   "id": "e1c5dc03",
   "metadata": {},
   "outputs": [],
   "source": []
  },
  {
   "cell_type": "code",
   "execution_count": null,
   "id": "5e82433f",
   "metadata": {},
   "outputs": [],
   "source": []
  },
  {
   "cell_type": "code",
   "execution_count": null,
   "id": "9541f384",
   "metadata": {},
   "outputs": [],
   "source": []
  },
  {
   "cell_type": "code",
   "execution_count": null,
   "id": "bc90e782",
   "metadata": {},
   "outputs": [],
   "source": []
  },
  {
   "cell_type": "code",
   "execution_count": null,
   "id": "594257a3",
   "metadata": {},
   "outputs": [],
   "source": []
  },
  {
   "cell_type": "code",
   "execution_count": null,
   "id": "1518f28b",
   "metadata": {},
   "outputs": [],
   "source": []
  }
 ],
 "metadata": {
  "kernelspec": {
   "display_name": ".NET (C#)",
   "language": "C#",
   "name": ".net-csharp"
  },
  "language_info": {
   "file_extension": ".cs",
   "mimetype": "text/x-csharp",
   "name": "C#",
   "pygments_lexer": "csharp",
   "version": "10.0"
  }
 },
 "nbformat": 4,
 "nbformat_minor": 5
}
